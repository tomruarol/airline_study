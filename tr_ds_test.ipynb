{
 "cells": [
  {
   "cell_type": "markdown",
   "metadata": {},
   "source": [
    "# eDreams test for Data Scientist Role"
   ]
  },
  {
   "cell_type": "markdown",
   "metadata": {},
   "source": [
    "*__Author:__ Tomas Ruan Rollan*\n",
    "<br>\n",
    "*__LinkedIn:__ https://www.linkedin.com/in/tomas-ruan/*\n",
    "<br>\n",
    "*__Email:__ tomruarol@gmail.com*"
   ]
  },
  {
   "cell_type": "markdown",
   "metadata": {},
   "source": [
    "# Index\n",
    "\n",
    "1. [Imports](#1)   \n",
    "\n",
    "2. [EDA & Data Cleaning](#2) <br>\n",
    "    3.1 [Duplicate Check](#2.1)    \n",
    "    3.2 [Target Variable Transformation](#2.2)    \n",
    "    3.3 [Validation Strategy](#2.3)    \n",
    "    3.4 [Data Cleaning & Transformation](#2.4)   \n",
    "    3.5 [Dates conversion](#2.5)    \n",
    "    3.6 [Label Encoding / One Hot Encoding](#2.6)    \n",
    "     \n",
    "3. [Feature Engineering](#3)    \n",
    "    3.1 [Timing Features](#3.1)    \n",
    "    \n",
    "4. [Oversampling](#4)\n",
    "\n",
    "5. [Modeling](#5)    \n",
    "    5.1 [Setting K folds](#5.1)        \n",
    "    5.2 [Parameter tunning](#5.2)       \n",
    "    5.4 [Get the id column](#5.3)  \n",
    "\n",
    "6. [Submission](#6) "
   ]
  },
  {
   "cell_type": "markdown",
   "metadata": {},
   "source": [
    "<a id=\"1\"></a>\n",
    "### Imports"
   ]
  },
  {
   "cell_type": "code",
   "execution_count": 1,
   "metadata": {},
   "outputs": [
    {
     "name": "stderr",
     "output_type": "stream",
     "text": [
      "Using TensorFlow backend.\n",
      "/Users/tomasruan/anaconda3/envs/data_science/lib/python3.7/site-packages/tensorflow/python/framework/dtypes.py:526: FutureWarning: Passing (type, 1) or '1type' as a synonym of type is deprecated; in a future version of numpy, it will be understood as (type, (1,)) / '(1,)type'.\n",
      "  _np_qint8 = np.dtype([(\"qint8\", np.int8, 1)])\n",
      "/Users/tomasruan/anaconda3/envs/data_science/lib/python3.7/site-packages/tensorflow/python/framework/dtypes.py:527: FutureWarning: Passing (type, 1) or '1type' as a synonym of type is deprecated; in a future version of numpy, it will be understood as (type, (1,)) / '(1,)type'.\n",
      "  _np_quint8 = np.dtype([(\"quint8\", np.uint8, 1)])\n",
      "/Users/tomasruan/anaconda3/envs/data_science/lib/python3.7/site-packages/tensorflow/python/framework/dtypes.py:528: FutureWarning: Passing (type, 1) or '1type' as a synonym of type is deprecated; in a future version of numpy, it will be understood as (type, (1,)) / '(1,)type'.\n",
      "  _np_qint16 = np.dtype([(\"qint16\", np.int16, 1)])\n",
      "/Users/tomasruan/anaconda3/envs/data_science/lib/python3.7/site-packages/tensorflow/python/framework/dtypes.py:529: FutureWarning: Passing (type, 1) or '1type' as a synonym of type is deprecated; in a future version of numpy, it will be understood as (type, (1,)) / '(1,)type'.\n",
      "  _np_quint16 = np.dtype([(\"quint16\", np.uint16, 1)])\n",
      "/Users/tomasruan/anaconda3/envs/data_science/lib/python3.7/site-packages/tensorflow/python/framework/dtypes.py:530: FutureWarning: Passing (type, 1) or '1type' as a synonym of type is deprecated; in a future version of numpy, it will be understood as (type, (1,)) / '(1,)type'.\n",
      "  _np_qint32 = np.dtype([(\"qint32\", np.int32, 1)])\n",
      "/Users/tomasruan/anaconda3/envs/data_science/lib/python3.7/site-packages/tensorflow/python/framework/dtypes.py:535: FutureWarning: Passing (type, 1) or '1type' as a synonym of type is deprecated; in a future version of numpy, it will be understood as (type, (1,)) / '(1,)type'.\n",
      "  np_resource = np.dtype([(\"resource\", np.ubyte, 1)])\n"
     ]
    },
    {
     "data": {
      "text/html": [
       "        <script type=\"text/javascript\">\n",
       "        window.PlotlyConfig = {MathJaxConfig: 'local'};\n",
       "        if (window.MathJax) {MathJax.Hub.Config({SVG: {font: \"STIX-Web\"}});}\n",
       "        if (typeof require !== 'undefined') {\n",
       "        require.undef(\"plotly\");\n",
       "        requirejs.config({\n",
       "            paths: {\n",
       "                'plotly': ['https://cdn.plot.ly/plotly-latest.min']\n",
       "            }\n",
       "        });\n",
       "        require(['plotly'], function(Plotly) {\n",
       "            window._Plotly = Plotly;\n",
       "        });\n",
       "        }\n",
       "        </script>\n",
       "        "
      ]
     },
     "metadata": {},
     "output_type": "display_data"
    }
   ],
   "source": [
    "# Imports\n",
    "import numpy as np\n",
    "import pandas as pd\n",
    "import matplotlib.pyplot as plt\n",
    "import seaborn as sns\n",
    "from sklearn import tree\n",
    "from sklearn.metrics import accuracy_score\n",
    "\n",
    "# For oversampling\n",
    "from imblearn.over_sampling import SMOTE;\n",
    "from imblearn.over_sampling import SMOTENC;\n",
    "\n",
    "# Figures inline and set visualization style\n",
    "%matplotlib inline\n",
    "sns.set() #Different type of visualization\n",
    "\n",
    "# Visualization\n",
    "from plotly.offline import init_notebook_mode, iplot\n",
    "import plotly.figure_factory as ff\n",
    "import cufflinks as cf\n",
    "cf.getThemes();\n",
    "cf.go_offline()\n",
    "cf.set_config_file(world_readable=True, theme='polar')\n",
    "import plotly.graph_objs as go\n",
    "import plotly\n",
    "from plotly import tools\n",
    "from termcolor import colored\n",
    "\n",
    "# Layout for plotly plots\n",
    "layout1 = cf.Layout(\n",
    "    height=400,\n",
    "    width=900\n",
    ")\n",
    "\n",
    "# import the necessary modelling algorithms\n",
    "\n",
    "# Classifiaction\n",
    "from sklearn.linear_model import LogisticRegression\n",
    "from sklearn.ensemble import RandomForestClassifier,GradientBoostingClassifier,AdaBoostClassifier\n",
    "from sklearn.tree import DecisionTreeClassifier\n",
    "# Gradient Boosting\n",
    "import xgboost as xgb\n",
    "from xgboost import XGBClassifier\n",
    "\n",
    "# Model selection\n",
    "from sklearn.model_selection import train_test_split,cross_validate\n",
    "from sklearn.model_selection import StratifiedKFold, KFold\n",
    "from sklearn.model_selection import GridSearchCV\n",
    "from sklearn.model_selection import RandomizedSearchCV\n",
    "\n",
    "# Preprocessing\n",
    "from sklearn.preprocessing import MinMaxScaler,StandardScaler,LabelEncoder,PolynomialFeatures\n",
    "\n",
    "# Evaluation metrics\n",
    "from sklearn.metrics import accuracy_score,precision_score,f1_score\n",
    "from sklearn.metrics import confusion_matrix\n",
    "\n",
    "# Show multiple statements at once\n",
    "from IPython.core.interactiveshell import InteractiveShell\n",
    "InteractiveShell.ast_node_interactivity = \"all\""
   ]
  },
  {
   "cell_type": "markdown",
   "metadata": {},
   "source": [
    "<a id=\"2\"></a>\n",
    "### EDA & Data Cleaning"
   ]
  },
  {
   "cell_type": "code",
   "execution_count": 2,
   "metadata": {},
   "outputs": [
    {
     "data": {
      "text/html": [
       "<div>\n",
       "<style scoped>\n",
       "    .dataframe tbody tr th:only-of-type {\n",
       "        vertical-align: middle;\n",
       "    }\n",
       "\n",
       "    .dataframe tbody tr th {\n",
       "        vertical-align: top;\n",
       "    }\n",
       "\n",
       "    .dataframe thead th {\n",
       "        text-align: right;\n",
       "    }\n",
       "</style>\n",
       "<table border=\"1\" class=\"dataframe\">\n",
       "  <thead>\n",
       "    <tr style=\"text-align: right;\">\n",
       "      <th></th>\n",
       "      <th>ID</th>\n",
       "      <th>TIMESTAMP</th>\n",
       "      <th>WEBSITE</th>\n",
       "      <th>GDS</th>\n",
       "      <th>DEPARTURE</th>\n",
       "      <th>ARRIVAL</th>\n",
       "      <th>ADULTS</th>\n",
       "      <th>CHILDREN</th>\n",
       "      <th>INFANTS</th>\n",
       "      <th>TRAIN</th>\n",
       "      <th>HAUL_TYPE</th>\n",
       "      <th>DISTANCE</th>\n",
       "      <th>DEVICE</th>\n",
       "      <th>TRIP_TYPE</th>\n",
       "      <th>PRODUCT</th>\n",
       "      <th>SMS</th>\n",
       "      <th>EXTRA_BAGGAGE</th>\n",
       "      <th>NO_GDS</th>\n",
       "    </tr>\n",
       "  </thead>\n",
       "  <tbody>\n",
       "    <tr>\n",
       "      <th>0</th>\n",
       "      <td>0</td>\n",
       "      <td>01/July</td>\n",
       "      <td>EDES</td>\n",
       "      <td>1</td>\n",
       "      <td>22/July</td>\n",
       "      <td>25/July</td>\n",
       "      <td>1</td>\n",
       "      <td>0</td>\n",
       "      <td>0</td>\n",
       "      <td>False</td>\n",
       "      <td>DOMESTIC</td>\n",
       "      <td>628.844</td>\n",
       "      <td>TABLET</td>\n",
       "      <td>ROUND_TRIP</td>\n",
       "      <td>TRIP</td>\n",
       "      <td>True</td>\n",
       "      <td>False</td>\n",
       "      <td>0</td>\n",
       "    </tr>\n",
       "    <tr>\n",
       "      <th>1</th>\n",
       "      <td>1</td>\n",
       "      <td>01/July</td>\n",
       "      <td>EDIT</td>\n",
       "      <td>0</td>\n",
       "      <td>29/July</td>\n",
       "      <td>29/July</td>\n",
       "      <td>1</td>\n",
       "      <td>0</td>\n",
       "      <td>0</td>\n",
       "      <td>False</td>\n",
       "      <td>CONTINENTAL</td>\n",
       "      <td>1281.430</td>\n",
       "      <td>SMARTPHONE</td>\n",
       "      <td>ONE_WAY</td>\n",
       "      <td>TRIP</td>\n",
       "      <td>False</td>\n",
       "      <td>False</td>\n",
       "      <td>1</td>\n",
       "    </tr>\n",
       "    <tr>\n",
       "      <th>2</th>\n",
       "      <td>2</td>\n",
       "      <td>01/July</td>\n",
       "      <td>OPUK</td>\n",
       "      <td>2</td>\n",
       "      <td>29/July</td>\n",
       "      <td>19/August</td>\n",
       "      <td>1</td>\n",
       "      <td>0</td>\n",
       "      <td>0</td>\n",
       "      <td>False</td>\n",
       "      <td>CONTINENTAL</td>\n",
       "      <td>1730.350</td>\n",
       "      <td>TABLET</td>\n",
       "      <td>ROUND_TRIP</td>\n",
       "      <td>TRIP</td>\n",
       "      <td>True</td>\n",
       "      <td>False</td>\n",
       "      <td>0</td>\n",
       "    </tr>\n",
       "    <tr>\n",
       "      <th>3</th>\n",
       "      <td>3</td>\n",
       "      <td>01/July</td>\n",
       "      <td>OPIT</td>\n",
       "      <td>0</td>\n",
       "      <td>24/July</td>\n",
       "      <td>04/August</td>\n",
       "      <td>1</td>\n",
       "      <td>0</td>\n",
       "      <td>0</td>\n",
       "      <td>False</td>\n",
       "      <td>DOMESTIC</td>\n",
       "      <td>652.702</td>\n",
       "      <td>SMARTPHONE</td>\n",
       "      <td>MULTI_DESTINATION</td>\n",
       "      <td>TRIP</td>\n",
       "      <td>False</td>\n",
       "      <td>False</td>\n",
       "      <td>2</td>\n",
       "    </tr>\n",
       "    <tr>\n",
       "      <th>4</th>\n",
       "      <td>4</td>\n",
       "      <td>01/July</td>\n",
       "      <td>EDES</td>\n",
       "      <td>0</td>\n",
       "      <td>11/August</td>\n",
       "      <td>11/August</td>\n",
       "      <td>1</td>\n",
       "      <td>0</td>\n",
       "      <td>0</td>\n",
       "      <td>False</td>\n",
       "      <td>CONTINENTAL</td>\n",
       "      <td>1717.850</td>\n",
       "      <td>COMPUTER</td>\n",
       "      <td>ONE_WAY</td>\n",
       "      <td>TRIP</td>\n",
       "      <td>False</td>\n",
       "      <td>False</td>\n",
       "      <td>1</td>\n",
       "    </tr>\n",
       "  </tbody>\n",
       "</table>\n",
       "</div>"
      ],
      "text/plain": [
       "   ID TIMESTAMP WEBSITE  GDS  DEPARTURE    ARRIVAL  ADULTS  CHILDREN  INFANTS  \\\n",
       "0   0   01/July    EDES    1    22/July    25/July       1         0        0   \n",
       "1   1   01/July    EDIT    0    29/July    29/July       1         0        0   \n",
       "2   2   01/July    OPUK    2    29/July  19/August       1         0        0   \n",
       "3   3   01/July    OPIT    0    24/July  04/August       1         0        0   \n",
       "4   4   01/July    EDES    0  11/August  11/August       1         0        0   \n",
       "\n",
       "   TRAIN    HAUL_TYPE  DISTANCE      DEVICE          TRIP_TYPE PRODUCT    SMS  \\\n",
       "0  False     DOMESTIC   628.844      TABLET         ROUND_TRIP    TRIP   True   \n",
       "1  False  CONTINENTAL  1281.430  SMARTPHONE            ONE_WAY    TRIP  False   \n",
       "2  False  CONTINENTAL  1730.350      TABLET         ROUND_TRIP    TRIP   True   \n",
       "3  False     DOMESTIC   652.702  SMARTPHONE  MULTI_DESTINATION    TRIP  False   \n",
       "4  False  CONTINENTAL  1717.850    COMPUTER            ONE_WAY    TRIP  False   \n",
       "\n",
       "   EXTRA_BAGGAGE  NO_GDS  \n",
       "0          False       0  \n",
       "1          False       1  \n",
       "2          False       0  \n",
       "3          False       2  \n",
       "4          False       1  "
      ]
     },
     "execution_count": 2,
     "metadata": {},
     "output_type": "execute_result"
    },
    {
     "data": {
      "text/html": [
       "<div>\n",
       "<style scoped>\n",
       "    .dataframe tbody tr th:only-of-type {\n",
       "        vertical-align: middle;\n",
       "    }\n",
       "\n",
       "    .dataframe tbody tr th {\n",
       "        vertical-align: top;\n",
       "    }\n",
       "\n",
       "    .dataframe thead th {\n",
       "        text-align: right;\n",
       "    }\n",
       "</style>\n",
       "<table border=\"1\" class=\"dataframe\">\n",
       "  <thead>\n",
       "    <tr style=\"text-align: right;\">\n",
       "      <th></th>\n",
       "      <th>ID</th>\n",
       "      <th>TIMESTAMP</th>\n",
       "      <th>WEBSITE</th>\n",
       "      <th>GDS</th>\n",
       "      <th>DEPARTURE</th>\n",
       "      <th>ARRIVAL</th>\n",
       "      <th>ADULTS</th>\n",
       "      <th>CHILDREN</th>\n",
       "      <th>INFANTS</th>\n",
       "      <th>TRAIN</th>\n",
       "      <th>HAUL_TYPE</th>\n",
       "      <th>DISTANCE</th>\n",
       "      <th>DEVICE</th>\n",
       "      <th>TRIP_TYPE</th>\n",
       "      <th>PRODUCT</th>\n",
       "      <th>SMS</th>\n",
       "      <th>NO_GDS</th>\n",
       "    </tr>\n",
       "  </thead>\n",
       "  <tbody>\n",
       "    <tr>\n",
       "      <th>0</th>\n",
       "      <td>0</td>\n",
       "      <td>03/July</td>\n",
       "      <td>EDES</td>\n",
       "      <td>1</td>\n",
       "      <td>22/July</td>\n",
       "      <td>22/July</td>\n",
       "      <td>1</td>\n",
       "      <td>0</td>\n",
       "      <td>0</td>\n",
       "      <td>False</td>\n",
       "      <td>DOMESTIC</td>\n",
       "      <td>3425.95</td>\n",
       "      <td>COMPUTER</td>\n",
       "      <td>ONE_WAY</td>\n",
       "      <td>TRIP</td>\n",
       "      <td>True</td>\n",
       "      <td>0</td>\n",
       "    </tr>\n",
       "    <tr>\n",
       "      <th>1</th>\n",
       "      <td>1</td>\n",
       "      <td>03/July</td>\n",
       "      <td>GOFR</td>\n",
       "      <td>1</td>\n",
       "      <td>05/July</td>\n",
       "      <td>22/August</td>\n",
       "      <td>1</td>\n",
       "      <td>0</td>\n",
       "      <td>0</td>\n",
       "      <td>False</td>\n",
       "      <td>INTERCONTINENTAL</td>\n",
       "      <td>3206.92</td>\n",
       "      <td>SMARTPHONE</td>\n",
       "      <td>ROUND_TRIP</td>\n",
       "      <td>TRIP</td>\n",
       "      <td>False</td>\n",
       "      <td>0</td>\n",
       "    </tr>\n",
       "    <tr>\n",
       "      <th>2</th>\n",
       "      <td>2</td>\n",
       "      <td>03/July</td>\n",
       "      <td>OPGB</td>\n",
       "      <td>1</td>\n",
       "      <td>22/July</td>\n",
       "      <td>12/August</td>\n",
       "      <td>1</td>\n",
       "      <td>0</td>\n",
       "      <td>0</td>\n",
       "      <td>False</td>\n",
       "      <td>INTERCONTINENTAL</td>\n",
       "      <td>6605.22</td>\n",
       "      <td>COMPUTER</td>\n",
       "      <td>ROUND_TRIP</td>\n",
       "      <td>TRIP</td>\n",
       "      <td>False</td>\n",
       "      <td>0</td>\n",
       "    </tr>\n",
       "    <tr>\n",
       "      <th>3</th>\n",
       "      <td>3</td>\n",
       "      <td>03/July</td>\n",
       "      <td>EDUK</td>\n",
       "      <td>0</td>\n",
       "      <td>06/July</td>\n",
       "      <td>08/July</td>\n",
       "      <td>1</td>\n",
       "      <td>0</td>\n",
       "      <td>0</td>\n",
       "      <td>False</td>\n",
       "      <td>CONTINENTAL</td>\n",
       "      <td>1302.29</td>\n",
       "      <td>SMARTPHONE</td>\n",
       "      <td>ROUND_TRIP</td>\n",
       "      <td>TRIP</td>\n",
       "      <td>False</td>\n",
       "      <td>2</td>\n",
       "    </tr>\n",
       "    <tr>\n",
       "      <th>4</th>\n",
       "      <td>4</td>\n",
       "      <td>03/July</td>\n",
       "      <td>OPDE</td>\n",
       "      <td>1</td>\n",
       "      <td>10/September</td>\n",
       "      <td>10/September</td>\n",
       "      <td>1</td>\n",
       "      <td>0</td>\n",
       "      <td>0</td>\n",
       "      <td>False</td>\n",
       "      <td>INTERCONTINENTAL</td>\n",
       "      <td>6770.78</td>\n",
       "      <td>COMPUTER</td>\n",
       "      <td>ONE_WAY</td>\n",
       "      <td>TRIP</td>\n",
       "      <td>True</td>\n",
       "      <td>0</td>\n",
       "    </tr>\n",
       "  </tbody>\n",
       "</table>\n",
       "</div>"
      ],
      "text/plain": [
       "   ID TIMESTAMP WEBSITE  GDS     DEPARTURE       ARRIVAL  ADULTS  CHILDREN  \\\n",
       "0   0   03/July    EDES    1       22/July       22/July       1         0   \n",
       "1   1   03/July    GOFR    1       05/July     22/August       1         0   \n",
       "2   2   03/July    OPGB    1       22/July     12/August       1         0   \n",
       "3   3   03/July    EDUK    0       06/July       08/July       1         0   \n",
       "4   4   03/July    OPDE    1  10/September  10/September       1         0   \n",
       "\n",
       "   INFANTS  TRAIN         HAUL_TYPE  DISTANCE      DEVICE   TRIP_TYPE PRODUCT  \\\n",
       "0        0  False          DOMESTIC   3425.95    COMPUTER     ONE_WAY    TRIP   \n",
       "1        0  False  INTERCONTINENTAL   3206.92  SMARTPHONE  ROUND_TRIP    TRIP   \n",
       "2        0  False  INTERCONTINENTAL   6605.22    COMPUTER  ROUND_TRIP    TRIP   \n",
       "3        0  False       CONTINENTAL   1302.29  SMARTPHONE  ROUND_TRIP    TRIP   \n",
       "4        0  False  INTERCONTINENTAL   6770.78    COMPUTER     ONE_WAY    TRIP   \n",
       "\n",
       "     SMS  NO_GDS  \n",
       "0   True       0  \n",
       "1  False       0  \n",
       "2  False       0  \n",
       "3  False       2  \n",
       "4   True       0  "
      ]
     },
     "execution_count": 2,
     "metadata": {},
     "output_type": "execute_result"
    }
   ],
   "source": [
    "# We import the data\n",
    "df_train = pd.read_csv('input/train.csv', sep = ';',  decimal=',') # we specify the decimal argument in \n",
    "df_test = pd.read_csv('input/test.csv', sep = ';',  decimal=',')   # order for floats to be read properly\n",
    "\n",
    "# We take a look at the dataset to see that data was imported correctly\n",
    "df_train.head()\n",
    "df_test.head()"
   ]
  },
  {
   "cell_type": "code",
   "execution_count": 3,
   "metadata": {},
   "outputs": [
    {
     "data": {
      "text/html": [
       "<div>\n",
       "<style scoped>\n",
       "    .dataframe tbody tr th:only-of-type {\n",
       "        vertical-align: middle;\n",
       "    }\n",
       "\n",
       "    .dataframe tbody tr th {\n",
       "        vertical-align: top;\n",
       "    }\n",
       "\n",
       "    .dataframe thead th {\n",
       "        text-align: right;\n",
       "    }\n",
       "</style>\n",
       "<table border=\"1\" class=\"dataframe\">\n",
       "  <thead>\n",
       "    <tr style=\"text-align: right;\">\n",
       "      <th></th>\n",
       "      <th>ID</th>\n",
       "      <th>TIMESTAMP</th>\n",
       "      <th>WEBSITE</th>\n",
       "      <th>GDS</th>\n",
       "      <th>DEPARTURE</th>\n",
       "      <th>ARRIVAL</th>\n",
       "      <th>ADULTS</th>\n",
       "      <th>CHILDREN</th>\n",
       "      <th>INFANTS</th>\n",
       "      <th>TRAIN</th>\n",
       "      <th>HAUL_TYPE</th>\n",
       "      <th>DISTANCE</th>\n",
       "      <th>DEVICE</th>\n",
       "      <th>TRIP_TYPE</th>\n",
       "      <th>PRODUCT</th>\n",
       "      <th>SMS</th>\n",
       "      <th>EXTRA_BAGGAGE</th>\n",
       "      <th>NO_GDS</th>\n",
       "    </tr>\n",
       "  </thead>\n",
       "  <tbody>\n",
       "    <tr>\n",
       "      <th>49995</th>\n",
       "      <td>49995</td>\n",
       "      <td>02/July</td>\n",
       "      <td>EDUK</td>\n",
       "      <td>1</td>\n",
       "      <td>02/July</td>\n",
       "      <td>02/July</td>\n",
       "      <td>2</td>\n",
       "      <td>0</td>\n",
       "      <td>0</td>\n",
       "      <td>False</td>\n",
       "      <td>CONTINENTAL</td>\n",
       "      <td>1035.13</td>\n",
       "      <td>COMPUTER</td>\n",
       "      <td>ONE_WAY</td>\n",
       "      <td>TRIP</td>\n",
       "      <td>True</td>\n",
       "      <td>True</td>\n",
       "      <td>0</td>\n",
       "    </tr>\n",
       "    <tr>\n",
       "      <th>49996</th>\n",
       "      <td>49996</td>\n",
       "      <td>02/July</td>\n",
       "      <td>EDPT</td>\n",
       "      <td>1</td>\n",
       "      <td>11/August</td>\n",
       "      <td>19/August</td>\n",
       "      <td>2</td>\n",
       "      <td>1</td>\n",
       "      <td>0</td>\n",
       "      <td>False</td>\n",
       "      <td>CONTINENTAL</td>\n",
       "      <td>1152.20</td>\n",
       "      <td>SMARTPHONE</td>\n",
       "      <td>ROUND_TRIP</td>\n",
       "      <td>TRIP</td>\n",
       "      <td>True</td>\n",
       "      <td>False</td>\n",
       "      <td>0</td>\n",
       "    </tr>\n",
       "    <tr>\n",
       "      <th>49997</th>\n",
       "      <td>49997</td>\n",
       "      <td>02/July</td>\n",
       "      <td>GOFR</td>\n",
       "      <td>1</td>\n",
       "      <td>09/September</td>\n",
       "      <td>23/September</td>\n",
       "      <td>1</td>\n",
       "      <td>0</td>\n",
       "      <td>0</td>\n",
       "      <td>False</td>\n",
       "      <td>INTERCONTINENTAL</td>\n",
       "      <td>2236.54</td>\n",
       "      <td>SMARTPHONE</td>\n",
       "      <td>ROUND_TRIP</td>\n",
       "      <td>TRIP</td>\n",
       "      <td>False</td>\n",
       "      <td>False</td>\n",
       "      <td>0</td>\n",
       "    </tr>\n",
       "    <tr>\n",
       "      <th>49998</th>\n",
       "      <td>49998</td>\n",
       "      <td>02/July</td>\n",
       "      <td>EDPT</td>\n",
       "      <td>2</td>\n",
       "      <td>05/July</td>\n",
       "      <td>21/July</td>\n",
       "      <td>1</td>\n",
       "      <td>0</td>\n",
       "      <td>0</td>\n",
       "      <td>False</td>\n",
       "      <td>CONTINENTAL</td>\n",
       "      <td>1312.48</td>\n",
       "      <td>COMPUTER</td>\n",
       "      <td>ROUND_TRIP</td>\n",
       "      <td>TRIP</td>\n",
       "      <td>False</td>\n",
       "      <td>True</td>\n",
       "      <td>0</td>\n",
       "    </tr>\n",
       "    <tr>\n",
       "      <th>49999</th>\n",
       "      <td>49999</td>\n",
       "      <td>02/July</td>\n",
       "      <td>GOFR</td>\n",
       "      <td>0</td>\n",
       "      <td>06/July</td>\n",
       "      <td>06/July</td>\n",
       "      <td>1</td>\n",
       "      <td>0</td>\n",
       "      <td>0</td>\n",
       "      <td>False</td>\n",
       "      <td>INTERCONTINENTAL</td>\n",
       "      <td>2403.31</td>\n",
       "      <td>SMARTPHONE</td>\n",
       "      <td>ONE_WAY</td>\n",
       "      <td>TRIP</td>\n",
       "      <td>False</td>\n",
       "      <td>False</td>\n",
       "      <td>1</td>\n",
       "    </tr>\n",
       "  </tbody>\n",
       "</table>\n",
       "</div>"
      ],
      "text/plain": [
       "          ID TIMESTAMP WEBSITE  GDS     DEPARTURE       ARRIVAL  ADULTS  \\\n",
       "49995  49995   02/July    EDUK    1       02/July       02/July       2   \n",
       "49996  49996   02/July    EDPT    1     11/August     19/August       2   \n",
       "49997  49997   02/July    GOFR    1  09/September  23/September       1   \n",
       "49998  49998   02/July    EDPT    2       05/July       21/July       1   \n",
       "49999  49999   02/July    GOFR    0       06/July       06/July       1   \n",
       "\n",
       "       CHILDREN  INFANTS  TRAIN         HAUL_TYPE  DISTANCE      DEVICE  \\\n",
       "49995         0        0  False       CONTINENTAL   1035.13    COMPUTER   \n",
       "49996         1        0  False       CONTINENTAL   1152.20  SMARTPHONE   \n",
       "49997         0        0  False  INTERCONTINENTAL   2236.54  SMARTPHONE   \n",
       "49998         0        0  False       CONTINENTAL   1312.48    COMPUTER   \n",
       "49999         0        0  False  INTERCONTINENTAL   2403.31  SMARTPHONE   \n",
       "\n",
       "        TRIP_TYPE PRODUCT    SMS  EXTRA_BAGGAGE  NO_GDS  \n",
       "49995     ONE_WAY    TRIP   True           True       0  \n",
       "49996  ROUND_TRIP    TRIP   True          False       0  \n",
       "49997  ROUND_TRIP    TRIP  False          False       0  \n",
       "49998  ROUND_TRIP    TRIP  False           True       0  \n",
       "49999     ONE_WAY    TRIP  False          False       1  "
      ]
     },
     "execution_count": 3,
     "metadata": {},
     "output_type": "execute_result"
    }
   ],
   "source": [
    "df_train.tail()"
   ]
  },
  {
   "cell_type": "code",
   "execution_count": 4,
   "metadata": {},
   "outputs": [
    {
     "name": "stdout",
     "output_type": "stream",
     "text": [
      "We have 50000 training rows and 30000 test rows.\n",
      "We have 18 training columns and 17 test columns.\n"
     ]
    }
   ],
   "source": [
    "# Let's check the number of rows and columns of train and test\n",
    "print('We have {} training rows and {} test rows.'.format(df_train.shape[0], df_test.shape[0]))\n",
    "print('We have {} training columns and {} test columns.'.format(len(df_train.columns), len(df_test.columns))) "
   ]
  },
  {
   "cell_type": "code",
   "execution_count": 5,
   "metadata": {
    "scrolled": false
   },
   "outputs": [
    {
     "name": "stdout",
     "output_type": "stream",
     "text": [
      "<class 'pandas.core.frame.DataFrame'>\n",
      "RangeIndex: 50000 entries, 0 to 49999\n",
      "Data columns (total 18 columns):\n",
      "ID               50000 non-null int64\n",
      "TIMESTAMP        50000 non-null object\n",
      "WEBSITE          50000 non-null object\n",
      "GDS              50000 non-null int64\n",
      "DEPARTURE        50000 non-null object\n",
      "ARRIVAL          50000 non-null object\n",
      "ADULTS           50000 non-null int64\n",
      "CHILDREN         50000 non-null int64\n",
      "INFANTS          50000 non-null int64\n",
      "TRAIN            50000 non-null bool\n",
      "HAUL_TYPE        50000 non-null object\n",
      "DISTANCE         50000 non-null float64\n",
      "DEVICE           49867 non-null object\n",
      "TRIP_TYPE        50000 non-null object\n",
      "PRODUCT          50000 non-null object\n",
      "SMS              50000 non-null bool\n",
      "EXTRA_BAGGAGE    50000 non-null bool\n",
      "NO_GDS           50000 non-null int64\n",
      "dtypes: bool(3), float64(1), int64(6), object(8)\n",
      "memory usage: 5.9+ MB\n"
     ]
    }
   ],
   "source": [
    "# We take a first look at the dataset\n",
    "df_train.info()"
   ]
  },
  {
   "cell_type": "code",
   "execution_count": 6,
   "metadata": {},
   "outputs": [
    {
     "name": "stdout",
     "output_type": "stream",
     "text": [
      "<class 'pandas.core.frame.DataFrame'>\n",
      "RangeIndex: 30000 entries, 0 to 29999\n",
      "Data columns (total 17 columns):\n",
      "ID           30000 non-null int64\n",
      "TIMESTAMP    30000 non-null object\n",
      "WEBSITE      30000 non-null object\n",
      "GDS          30000 non-null int64\n",
      "DEPARTURE    30000 non-null object\n",
      "ARRIVAL      30000 non-null object\n",
      "ADULTS       30000 non-null int64\n",
      "CHILDREN     30000 non-null int64\n",
      "INFANTS      30000 non-null int64\n",
      "TRAIN        30000 non-null bool\n",
      "HAUL_TYPE    30000 non-null object\n",
      "DISTANCE     30000 non-null float64\n",
      "DEVICE       29948 non-null object\n",
      "TRIP_TYPE    30000 non-null object\n",
      "PRODUCT      30000 non-null object\n",
      "SMS          30000 non-null bool\n",
      "NO_GDS       30000 non-null int64\n",
      "dtypes: bool(2), float64(1), int64(6), object(8)\n",
      "memory usage: 3.5+ MB\n"
     ]
    }
   ],
   "source": [
    "df_test.info()"
   ]
  },
  {
   "cell_type": "markdown",
   "metadata": {},
   "source": [
    "We can see we have some missing values in the `DEVICE` column in the train dataset. Later on we will decide what to do with them. <br>"
   ]
  },
  {
   "cell_type": "markdown",
   "metadata": {},
   "source": [
    "Regarding the `ID` column. It tells us the same as the index from our dataframe, hence it's not giving us any extra information and because of all the entries are independent between each other we can safely drop it."
   ]
  },
  {
   "cell_type": "code",
   "execution_count": 7,
   "metadata": {},
   "outputs": [],
   "source": [
    "# We drop the ID column both in the train & test datset\n",
    "df_train = df_train.drop('ID',axis=1)\n",
    "df_test = df_test.drop('ID',axis=1)"
   ]
  },
  {
   "cell_type": "code",
   "execution_count": 8,
   "metadata": {},
   "outputs": [
    {
     "data": {
      "text/html": [
       "<div>\n",
       "<style scoped>\n",
       "    .dataframe tbody tr th:only-of-type {\n",
       "        vertical-align: middle;\n",
       "    }\n",
       "\n",
       "    .dataframe tbody tr th {\n",
       "        vertical-align: top;\n",
       "    }\n",
       "\n",
       "    .dataframe thead th {\n",
       "        text-align: right;\n",
       "    }\n",
       "</style>\n",
       "<table border=\"1\" class=\"dataframe\">\n",
       "  <thead>\n",
       "    <tr style=\"text-align: right;\">\n",
       "      <th></th>\n",
       "      <th>TIMESTAMP</th>\n",
       "      <th>WEBSITE</th>\n",
       "      <th>GDS</th>\n",
       "      <th>DEPARTURE</th>\n",
       "      <th>ARRIVAL</th>\n",
       "      <th>ADULTS</th>\n",
       "      <th>CHILDREN</th>\n",
       "      <th>INFANTS</th>\n",
       "      <th>TRAIN</th>\n",
       "      <th>HAUL_TYPE</th>\n",
       "      <th>DISTANCE</th>\n",
       "      <th>DEVICE</th>\n",
       "      <th>TRIP_TYPE</th>\n",
       "      <th>PRODUCT</th>\n",
       "      <th>SMS</th>\n",
       "      <th>EXTRA_BAGGAGE</th>\n",
       "      <th>NO_GDS</th>\n",
       "    </tr>\n",
       "  </thead>\n",
       "  <tbody>\n",
       "    <tr>\n",
       "      <th>0</th>\n",
       "      <td>01/July</td>\n",
       "      <td>EDES</td>\n",
       "      <td>1</td>\n",
       "      <td>22/July</td>\n",
       "      <td>25/July</td>\n",
       "      <td>1</td>\n",
       "      <td>0</td>\n",
       "      <td>0</td>\n",
       "      <td>False</td>\n",
       "      <td>DOMESTIC</td>\n",
       "      <td>628.844</td>\n",
       "      <td>TABLET</td>\n",
       "      <td>ROUND_TRIP</td>\n",
       "      <td>TRIP</td>\n",
       "      <td>True</td>\n",
       "      <td>False</td>\n",
       "      <td>0</td>\n",
       "    </tr>\n",
       "    <tr>\n",
       "      <th>1</th>\n",
       "      <td>01/July</td>\n",
       "      <td>EDIT</td>\n",
       "      <td>0</td>\n",
       "      <td>29/July</td>\n",
       "      <td>29/July</td>\n",
       "      <td>1</td>\n",
       "      <td>0</td>\n",
       "      <td>0</td>\n",
       "      <td>False</td>\n",
       "      <td>CONTINENTAL</td>\n",
       "      <td>1281.430</td>\n",
       "      <td>SMARTPHONE</td>\n",
       "      <td>ONE_WAY</td>\n",
       "      <td>TRIP</td>\n",
       "      <td>False</td>\n",
       "      <td>False</td>\n",
       "      <td>1</td>\n",
       "    </tr>\n",
       "    <tr>\n",
       "      <th>2</th>\n",
       "      <td>01/July</td>\n",
       "      <td>OPUK</td>\n",
       "      <td>2</td>\n",
       "      <td>29/July</td>\n",
       "      <td>19/August</td>\n",
       "      <td>1</td>\n",
       "      <td>0</td>\n",
       "      <td>0</td>\n",
       "      <td>False</td>\n",
       "      <td>CONTINENTAL</td>\n",
       "      <td>1730.350</td>\n",
       "      <td>TABLET</td>\n",
       "      <td>ROUND_TRIP</td>\n",
       "      <td>TRIP</td>\n",
       "      <td>True</td>\n",
       "      <td>False</td>\n",
       "      <td>0</td>\n",
       "    </tr>\n",
       "    <tr>\n",
       "      <th>3</th>\n",
       "      <td>01/July</td>\n",
       "      <td>OPIT</td>\n",
       "      <td>0</td>\n",
       "      <td>24/July</td>\n",
       "      <td>04/August</td>\n",
       "      <td>1</td>\n",
       "      <td>0</td>\n",
       "      <td>0</td>\n",
       "      <td>False</td>\n",
       "      <td>DOMESTIC</td>\n",
       "      <td>652.702</td>\n",
       "      <td>SMARTPHONE</td>\n",
       "      <td>MULTI_DESTINATION</td>\n",
       "      <td>TRIP</td>\n",
       "      <td>False</td>\n",
       "      <td>False</td>\n",
       "      <td>2</td>\n",
       "    </tr>\n",
       "    <tr>\n",
       "      <th>4</th>\n",
       "      <td>01/July</td>\n",
       "      <td>EDES</td>\n",
       "      <td>0</td>\n",
       "      <td>11/August</td>\n",
       "      <td>11/August</td>\n",
       "      <td>1</td>\n",
       "      <td>0</td>\n",
       "      <td>0</td>\n",
       "      <td>False</td>\n",
       "      <td>CONTINENTAL</td>\n",
       "      <td>1717.850</td>\n",
       "      <td>COMPUTER</td>\n",
       "      <td>ONE_WAY</td>\n",
       "      <td>TRIP</td>\n",
       "      <td>False</td>\n",
       "      <td>False</td>\n",
       "      <td>1</td>\n",
       "    </tr>\n",
       "  </tbody>\n",
       "</table>\n",
       "</div>"
      ],
      "text/plain": [
       "  TIMESTAMP WEBSITE  GDS  DEPARTURE    ARRIVAL  ADULTS  CHILDREN  INFANTS  \\\n",
       "0   01/July    EDES    1    22/July    25/July       1         0        0   \n",
       "1   01/July    EDIT    0    29/July    29/July       1         0        0   \n",
       "2   01/July    OPUK    2    29/July  19/August       1         0        0   \n",
       "3   01/July    OPIT    0    24/July  04/August       1         0        0   \n",
       "4   01/July    EDES    0  11/August  11/August       1         0        0   \n",
       "\n",
       "   TRAIN    HAUL_TYPE  DISTANCE      DEVICE          TRIP_TYPE PRODUCT    SMS  \\\n",
       "0  False     DOMESTIC   628.844      TABLET         ROUND_TRIP    TRIP   True   \n",
       "1  False  CONTINENTAL  1281.430  SMARTPHONE            ONE_WAY    TRIP  False   \n",
       "2  False  CONTINENTAL  1730.350      TABLET         ROUND_TRIP    TRIP   True   \n",
       "3  False     DOMESTIC   652.702  SMARTPHONE  MULTI_DESTINATION    TRIP  False   \n",
       "4  False  CONTINENTAL  1717.850    COMPUTER            ONE_WAY    TRIP  False   \n",
       "\n",
       "   EXTRA_BAGGAGE  NO_GDS  \n",
       "0          False       0  \n",
       "1          False       1  \n",
       "2          False       0  \n",
       "3          False       2  \n",
       "4          False       1  "
      ]
     },
     "execution_count": 8,
     "metadata": {},
     "output_type": "execute_result"
    },
    {
     "data": {
      "text/html": [
       "<div>\n",
       "<style scoped>\n",
       "    .dataframe tbody tr th:only-of-type {\n",
       "        vertical-align: middle;\n",
       "    }\n",
       "\n",
       "    .dataframe tbody tr th {\n",
       "        vertical-align: top;\n",
       "    }\n",
       "\n",
       "    .dataframe thead th {\n",
       "        text-align: right;\n",
       "    }\n",
       "</style>\n",
       "<table border=\"1\" class=\"dataframe\">\n",
       "  <thead>\n",
       "    <tr style=\"text-align: right;\">\n",
       "      <th></th>\n",
       "      <th>TIMESTAMP</th>\n",
       "      <th>WEBSITE</th>\n",
       "      <th>GDS</th>\n",
       "      <th>DEPARTURE</th>\n",
       "      <th>ARRIVAL</th>\n",
       "      <th>ADULTS</th>\n",
       "      <th>CHILDREN</th>\n",
       "      <th>INFANTS</th>\n",
       "      <th>TRAIN</th>\n",
       "      <th>HAUL_TYPE</th>\n",
       "      <th>DISTANCE</th>\n",
       "      <th>DEVICE</th>\n",
       "      <th>TRIP_TYPE</th>\n",
       "      <th>PRODUCT</th>\n",
       "      <th>SMS</th>\n",
       "      <th>NO_GDS</th>\n",
       "    </tr>\n",
       "  </thead>\n",
       "  <tbody>\n",
       "    <tr>\n",
       "      <th>0</th>\n",
       "      <td>03/July</td>\n",
       "      <td>EDES</td>\n",
       "      <td>1</td>\n",
       "      <td>22/July</td>\n",
       "      <td>22/July</td>\n",
       "      <td>1</td>\n",
       "      <td>0</td>\n",
       "      <td>0</td>\n",
       "      <td>False</td>\n",
       "      <td>DOMESTIC</td>\n",
       "      <td>3425.95</td>\n",
       "      <td>COMPUTER</td>\n",
       "      <td>ONE_WAY</td>\n",
       "      <td>TRIP</td>\n",
       "      <td>True</td>\n",
       "      <td>0</td>\n",
       "    </tr>\n",
       "    <tr>\n",
       "      <th>1</th>\n",
       "      <td>03/July</td>\n",
       "      <td>GOFR</td>\n",
       "      <td>1</td>\n",
       "      <td>05/July</td>\n",
       "      <td>22/August</td>\n",
       "      <td>1</td>\n",
       "      <td>0</td>\n",
       "      <td>0</td>\n",
       "      <td>False</td>\n",
       "      <td>INTERCONTINENTAL</td>\n",
       "      <td>3206.92</td>\n",
       "      <td>SMARTPHONE</td>\n",
       "      <td>ROUND_TRIP</td>\n",
       "      <td>TRIP</td>\n",
       "      <td>False</td>\n",
       "      <td>0</td>\n",
       "    </tr>\n",
       "    <tr>\n",
       "      <th>2</th>\n",
       "      <td>03/July</td>\n",
       "      <td>OPGB</td>\n",
       "      <td>1</td>\n",
       "      <td>22/July</td>\n",
       "      <td>12/August</td>\n",
       "      <td>1</td>\n",
       "      <td>0</td>\n",
       "      <td>0</td>\n",
       "      <td>False</td>\n",
       "      <td>INTERCONTINENTAL</td>\n",
       "      <td>6605.22</td>\n",
       "      <td>COMPUTER</td>\n",
       "      <td>ROUND_TRIP</td>\n",
       "      <td>TRIP</td>\n",
       "      <td>False</td>\n",
       "      <td>0</td>\n",
       "    </tr>\n",
       "    <tr>\n",
       "      <th>3</th>\n",
       "      <td>03/July</td>\n",
       "      <td>EDUK</td>\n",
       "      <td>0</td>\n",
       "      <td>06/July</td>\n",
       "      <td>08/July</td>\n",
       "      <td>1</td>\n",
       "      <td>0</td>\n",
       "      <td>0</td>\n",
       "      <td>False</td>\n",
       "      <td>CONTINENTAL</td>\n",
       "      <td>1302.29</td>\n",
       "      <td>SMARTPHONE</td>\n",
       "      <td>ROUND_TRIP</td>\n",
       "      <td>TRIP</td>\n",
       "      <td>False</td>\n",
       "      <td>2</td>\n",
       "    </tr>\n",
       "    <tr>\n",
       "      <th>4</th>\n",
       "      <td>03/July</td>\n",
       "      <td>OPDE</td>\n",
       "      <td>1</td>\n",
       "      <td>10/September</td>\n",
       "      <td>10/September</td>\n",
       "      <td>1</td>\n",
       "      <td>0</td>\n",
       "      <td>0</td>\n",
       "      <td>False</td>\n",
       "      <td>INTERCONTINENTAL</td>\n",
       "      <td>6770.78</td>\n",
       "      <td>COMPUTER</td>\n",
       "      <td>ONE_WAY</td>\n",
       "      <td>TRIP</td>\n",
       "      <td>True</td>\n",
       "      <td>0</td>\n",
       "    </tr>\n",
       "  </tbody>\n",
       "</table>\n",
       "</div>"
      ],
      "text/plain": [
       "  TIMESTAMP WEBSITE  GDS     DEPARTURE       ARRIVAL  ADULTS  CHILDREN  \\\n",
       "0   03/July    EDES    1       22/July       22/July       1         0   \n",
       "1   03/July    GOFR    1       05/July     22/August       1         0   \n",
       "2   03/July    OPGB    1       22/July     12/August       1         0   \n",
       "3   03/July    EDUK    0       06/July       08/July       1         0   \n",
       "4   03/July    OPDE    1  10/September  10/September       1         0   \n",
       "\n",
       "   INFANTS  TRAIN         HAUL_TYPE  DISTANCE      DEVICE   TRIP_TYPE PRODUCT  \\\n",
       "0        0  False          DOMESTIC   3425.95    COMPUTER     ONE_WAY    TRIP   \n",
       "1        0  False  INTERCONTINENTAL   3206.92  SMARTPHONE  ROUND_TRIP    TRIP   \n",
       "2        0  False  INTERCONTINENTAL   6605.22    COMPUTER  ROUND_TRIP    TRIP   \n",
       "3        0  False       CONTINENTAL   1302.29  SMARTPHONE  ROUND_TRIP    TRIP   \n",
       "4        0  False  INTERCONTINENTAL   6770.78    COMPUTER     ONE_WAY    TRIP   \n",
       "\n",
       "     SMS  NO_GDS  \n",
       "0   True       0  \n",
       "1  False       0  \n",
       "2  False       0  \n",
       "3  False       2  \n",
       "4   True       0  "
      ]
     },
     "execution_count": 8,
     "metadata": {},
     "output_type": "execute_result"
    }
   ],
   "source": [
    "df_train.head()\n",
    "df_test.head()"
   ]
  },
  {
   "cell_type": "markdown",
   "metadata": {},
   "source": [
    "<a id=\"2.1\"></a>\n",
    "###### Duplicate Check\n",
    "\n",
    "Let's check if there are any duplicates."
   ]
  },
  {
   "cell_type": "code",
   "execution_count": 9,
   "metadata": {},
   "outputs": [
    {
     "data": {
      "text/plain": [
       "True"
      ]
     },
     "execution_count": 9,
     "metadata": {},
     "output_type": "execute_result"
    },
    {
     "data": {
      "text/plain": [
       "True"
      ]
     },
     "execution_count": 9,
     "metadata": {},
     "output_type": "execute_result"
    }
   ],
   "source": [
    "# We check if we have duplicates\n",
    "df_train.duplicated().any()\n",
    "df_test.duplicated().any()"
   ]
  },
  {
   "cell_type": "markdown",
   "metadata": {},
   "source": [
    "It looks like we have duplicates on the dataset, but we have to be cautious here.\n",
    "\n",
    "After droping the `ID` column, registers (rows) will loose their identity and the feature that made them unique. That doesn't mean they are duplicates. <br>\n",
    "If we have 2 customers, being both of them adults, who bought their tickets from the same website, for the same trip and for the same dates (ignoring the rest of the features for one moment), they are likely to appear as duplicates, while they are 2 totally different people. <br>\n",
    "The probability of having several registers with the same attributes its likely to happen in this kind of situations, as they seek general information, but regarding the passenger, the information which could make him/her unique is almost none. Hence, eventhough it looks like they are duplicates, it's better not to treat them as such."
   ]
  },
  {
   "cell_type": "markdown",
   "metadata": {},
   "source": [
    "<a id=\"2.2\"></a>\n",
    "###### Null / NaN Handling\n",
    "\n",
    "Let's treat the `null` values we saw we had in the `DEVICE` column. <br>\n",
    "We will see how many `null` there are and we will take a decision about what to do with them."
   ]
  },
  {
   "cell_type": "code",
   "execution_count": 10,
   "metadata": {},
   "outputs": [
    {
     "data": {
      "text/plain": [
       "array(['TABLET', 'SMARTPHONE', 'COMPUTER', 'OTHER', nan], dtype=object)"
      ]
     },
     "execution_count": 10,
     "metadata": {},
     "output_type": "execute_result"
    },
    {
     "data": {
      "text/plain": [
       "array(['COMPUTER', 'SMARTPHONE', 'TABLET', 'OTHER', nan], dtype=object)"
      ]
     },
     "execution_count": 10,
     "metadata": {},
     "output_type": "execute_result"
    }
   ],
   "source": [
    "# Values that the feature DEVICE can take\n",
    "df_train['DEVICE'].unique()\n",
    "df_test['DEVICE'].unique()"
   ]
  },
  {
   "cell_type": "code",
   "execution_count": 11,
   "metadata": {},
   "outputs": [
    {
     "name": "stdout",
     "output_type": "stream",
     "text": [
      "Number of NaN values in the train dataset = 133\n",
      "Number of NaN values in the test dataset = 52\n"
     ]
    }
   ],
   "source": [
    "num_instances_train = 50000 # total number of instances in the train daataset\n",
    "num_instances_test = 30000 # total number of instances in the test daataset\n",
    "\n",
    "# For the train dataset\n",
    "print('Number of NaN values in the train dataset = ' + str(num_instances_train - df_train['DEVICE'].value_counts().sum()))\n",
    "\n",
    "# For the test dataset\n",
    "print('Number of NaN values in the test dataset = ' + str(num_instances_test - df_test['DEVICE'].value_counts().sum()))"
   ]
  },
  {
   "cell_type": "markdown",
   "metadata": {},
   "source": [
    "As we can observe that the amount of missing values it's ridiculously small. <br>\n",
    "So here we have two different options: <br>\n",
    "\n",
    "    1) Drop those null values\n",
    "    2) Fill them with the most common value which is COMPUTER\n",
    "    \n",
    "As the amount is so small, we better just drop them, that way we do not blur the rest of the data and get it dirtier, eventhough the amount is so small that if we entered them as `COMPUTER` it would not affect to much to our data, but it's better to drop them."
   ]
  },
  {
   "cell_type": "code",
   "execution_count": 12,
   "metadata": {},
   "outputs": [],
   "source": [
    "# We drop those values in the train & test dataset\n",
    "df_train = df_train.dropna(subset=['DEVICE'])\n",
    "df_test= df_test.dropna(subset=['DEVICE'])"
   ]
  },
  {
   "cell_type": "code",
   "execution_count": 13,
   "metadata": {},
   "outputs": [
    {
     "data": {
      "text/plain": [
       "array(['TABLET', 'SMARTPHONE', 'COMPUTER', 'OTHER'], dtype=object)"
      ]
     },
     "execution_count": 13,
     "metadata": {},
     "output_type": "execute_result"
    },
    {
     "data": {
      "text/plain": [
       "array(['COMPUTER', 'SMARTPHONE', 'TABLET', 'OTHER'], dtype=object)"
      ]
     },
     "execution_count": 13,
     "metadata": {},
     "output_type": "execute_result"
    }
   ],
   "source": [
    "# Let's check that it has been done properly\n",
    "df_train['DEVICE'].unique()\n",
    "df_test['DEVICE'].unique()"
   ]
  },
  {
   "cell_type": "markdown",
   "metadata": {},
   "source": [
    "As we can observe, we do not have NaN values anymore, great!"
   ]
  },
  {
   "cell_type": "code",
   "execution_count": 14,
   "metadata": {},
   "outputs": [
    {
     "data": {
      "text/plain": [
       "<matplotlib.axes._subplots.AxesSubplot at 0x118a0f518>"
      ]
     },
     "execution_count": 14,
     "metadata": {},
     "output_type": "execute_result"
    },
    {
     "data": {
      "text/plain": [
       "DEVICE\n",
       "COMPUTER      34064\n",
       "OTHER           942\n",
       "SMARTPHONE    11709\n",
       "TABLET         3152\n",
       "Name: WEBSITE, dtype: int64"
      ]
     },
     "execution_count": 14,
     "metadata": {},
     "output_type": "execute_result"
    },
    {
     "data": {
      "image/png": "[encoded data removed]",
      "text/plain": [
       "<Figure size 432x288 with 1 Axes>"
      ]
     },
     "metadata": {},
     "output_type": "display_data"
    }
   ],
   "source": [
    "# Let's plot the amount of device types who enter the website\n",
    "sns.countplot(x = 'DEVICE', data = df_train)\n",
    "df_train.groupby(['DEVICE']).WEBSITE.count() # Device type who enter the website"
   ]
  },
  {
   "cell_type": "markdown",
   "metadata": {},
   "source": [
    "As we can see, much more people access the website via the computer rather than the phone or tablet."
   ]
  },
  {
   "cell_type": "markdown",
   "metadata": {},
   "source": [
    "<a id=\"2.1\"></a>\n",
    "###### Dates Conversion\n",
    "\n",
    "As we saw before, our dates were `object` type. We will convert them into `datetime` type. <br>\n",
    "Here we find a problem. <br>\n",
    "Our dates have a day and a month respectively `01/July` for example, while the year is missing. This leads to a problem when trying to convert the dates as it will introduce a year by its own (year 1900). Hence, we have to come up with something to treat our dates and make them useful: <br>\n",
    "\n",
    "- Are all dates in the same year?\n",
    "\n",
    "    If they were not from the same year we could do some comparatives based on months of different years, or seasons,     for example, but as we do not know if they are from the same year we can't do this type of analysis.\n",
    "    If they were from the same year we could just take into account months and days and do the analysis based only on     those two.\n",
    "    \n",
    "    \n",
    "- Assuming they are all from the same year\n",
    "\n",
    "    The easiest and the one which makes more sense here is to assume all of them are from the same year (1900    example, as it filled by default with `to_datetime` method from `pandas` library), just to fill the year in the format, so we are able to convert them to datetime format and then proceed with the analysis of this dates taking into account only the day and the month, forgetting about the year."
   ]
  },
  {
   "cell_type": "markdown",
   "metadata": {},
   "source": [
    "Before doing all this, there are some dates that do not have the same format as the rest. <br>\n",
    "While most the dates have dd/M format (04/July), there are some that have dd-m format (17-may). This leads to problems when converting the dates. \n",
    "\n",
    "Let's replace the `-` symbols with `/` so all the dates have the same format."
   ]
  },
  {
   "cell_type": "code",
   "execution_count": 15,
   "metadata": {},
   "outputs": [],
   "source": [
    "def replace_function(column):\n",
    "    df_train[column] = df[column].str.replace('-', '/')"
   ]
  },
  {
   "cell_type": "code",
   "execution_count": 16,
   "metadata": {},
   "outputs": [],
   "source": [
    "# We replace the symbols in both datasets and in all the columns dates just in case\n",
    "\n",
    "# train dataset\n",
    "df_train['TIMESTAMP'] = df_train['TIMESTAMP'].str.replace('-', '/')\n",
    "df_train['DEPARTURE'] = df_train['DEPARTURE'].str.replace('-', '/')\n",
    "df_train['ARRIVAL'] = df_train['ARRIVAL'].str.replace('-', '/')\n",
    "\n",
    "#test dataset\n",
    "df_test['TIMESTAMP'] = df_test['TIMESTAMP'].str.replace('-', '/')\n",
    "df_test['DEPARTURE'] = df_test['DEPARTURE'].str.replace('-', '/')\n",
    "df_test['ARRIVAL'] = df_test['ARRIVAL'].str.replace('-', '/')"
   ]
  },
  {
   "cell_type": "code",
   "execution_count": 17,
   "metadata": {},
   "outputs": [
    {
     "data": {
      "text/plain": [
       "'01/July'"
      ]
     },
     "execution_count": 17,
     "metadata": {},
     "output_type": "execute_result"
    }
   ],
   "source": [
    "# Let's look at 1 register\n",
    "x = df_train['TIMESTAMP'][0]\n",
    "x"
   ]
  },
  {
   "cell_type": "code",
   "execution_count": 18,
   "metadata": {},
   "outputs": [],
   "source": [
    "# We convert them to datetime type\n",
    "\n",
    "# for the train dataset\n",
    "df_train['TIMESTAMP'] = pd.to_datetime(df_train['TIMESTAMP'], format='%d/%B')\n",
    "df_train['DEPARTURE'] = pd.to_datetime(df_train['DEPARTURE'], format='%d/%B')\n",
    "df_train['ARRIVAL'] = pd.to_datetime(df_train['ARRIVAL'], format='%d/%B')\n",
    "\n",
    "#for the test dataset\n",
    "df_test['TIMESTAMP'] = pd.to_datetime(df_test['TIMESTAMP'], format='%d/%B')\n",
    "df_test['DEPARTURE'] = pd.to_datetime(df_test['DEPARTURE'], format='%d/%B')\n",
    "df_test['ARRIVAL'] = pd.to_datetime(df_test['ARRIVAL'], format='%d/%B')"
   ]
  },
  {
   "cell_type": "code",
   "execution_count": 19,
   "metadata": {},
   "outputs": [
    {
     "data": {
      "text/plain": [
       "Timestamp('1900-07-29 00:00:00')"
      ]
     },
     "execution_count": 19,
     "metadata": {},
     "output_type": "execute_result"
    },
    {
     "data": {
      "text/plain": [
       "Timestamp('1900-08-12 00:00:00')"
      ]
     },
     "execution_count": 19,
     "metadata": {},
     "output_type": "execute_result"
    }
   ],
   "source": [
    "# We take a look to see that it has been done properly\n",
    "x = df_train['DEPARTURE'][2]\n",
    "y = df_test['ARRIVAL'][2]\n",
    "x\n",
    "y"
   ]
  },
  {
   "cell_type": "code",
   "execution_count": 20,
   "metadata": {},
   "outputs": [
    {
     "data": {
      "text/plain": [
       "TIMESTAMP        datetime64[ns]\n",
       "WEBSITE                  object\n",
       "GDS                       int64\n",
       "DEPARTURE        datetime64[ns]\n",
       "ARRIVAL          datetime64[ns]\n",
       "ADULTS                    int64\n",
       "CHILDREN                  int64\n",
       "INFANTS                   int64\n",
       "TRAIN                      bool\n",
       "HAUL_TYPE                object\n",
       "DISTANCE                float64\n",
       "DEVICE                   object\n",
       "TRIP_TYPE                object\n",
       "PRODUCT                  object\n",
       "SMS                        bool\n",
       "EXTRA_BAGGAGE              bool\n",
       "NO_GDS                    int64\n",
       "dtype: object"
      ]
     },
     "execution_count": 20,
     "metadata": {},
     "output_type": "execute_result"
    }
   ],
   "source": [
    "df_train.dtypes"
   ]
  },
  {
   "cell_type": "markdown",
   "metadata": {},
   "source": [
    "As we can see our dates are `datetime` type, so we can now proceed with the analysis and use them."
   ]
  },
  {
   "cell_type": "markdown",
   "metadata": {},
   "source": [
    "<a id=\"3.6\"></a>\n",
    "#### Label Encoding / One Hot Encoding\n",
    "\n",
    "Most of the features in our dataset are categorical, for example: `WEBSITE` has values like `EDES, GOFT, EDUK, ...` and `DEVICE` has values such as `COMPUTER, SMARTPHONE, ...` for instance. <br>\n",
    "We need to label this data in order to assign a number to each category, this is converting our categorical data into numerical data so our model can handle it."
   ]
  },
  {
   "cell_type": "code",
   "execution_count": 21,
   "metadata": {},
   "outputs": [],
   "source": [
    "def encoding_columns(train, bool_enc, columns):\n",
    "    for column in columns:\n",
    "        try:\n",
    "            lbl = LabelEncoder();\n",
    "            if train: # for the train dataset\n",
    "                if bool_enc: # for the boolean columns\n",
    "                    df_train[column] = df_train[column].astype(int)\n",
    "                else:\n",
    "                    lbl.fit(list(df_train[column].values));\n",
    "                    df_train[column] = lbl.transform(list(df_train[column].values));\n",
    "            else:  # for the test dataset\n",
    "                if bool_enc: # for the boolean columns\n",
    "                    df_test[column] = df_test[column].astype(int)\n",
    "                else:\n",
    "                    lbl.fit(list(df_test[column].values));\n",
    "                    df_test[column] = lbl.transform(list(df_test[column].values));\n",
    "        except:\n",
    "            print(df_train[column])"
   ]
  },
  {
   "cell_type": "code",
   "execution_count": 22,
   "metadata": {},
   "outputs": [],
   "source": [
    "train_categoricals = df_train.select_dtypes(include='object').columns\n",
    "test_categoricals = df_test.select_dtypes(include='object').columns\n",
    "\n",
    "encoding_columns(True, False, train_categoricals);\n",
    "encoding_columns(False, False, test_categoricals);"
   ]
  },
  {
   "cell_type": "markdown",
   "metadata": {},
   "source": [
    "In the same way that we have done the encoding for the `object` type data above, we have to encode the `boolean` data too, giving them values of {0 or 1} respectively."
   ]
  },
  {
   "cell_type": "code",
   "execution_count": 23,
   "metadata": {
    "scrolled": true
   },
   "outputs": [],
   "source": [
    "train_bool = df_train.select_dtypes(include='bool').columns\n",
    "test_bool = df_test.select_dtypes(include='bool').columns\n",
    "\n",
    "encoding_columns(True, True, train_bool);\n",
    "encoding_columns(False, True, test_bool);"
   ]
  },
  {
   "cell_type": "code",
   "execution_count": 24,
   "metadata": {
    "scrolled": false
   },
   "outputs": [
    {
     "data": {
      "text/plain": [
       "TIMESTAMP        datetime64[ns]\n",
       "WEBSITE                   int64\n",
       "GDS                       int64\n",
       "DEPARTURE        datetime64[ns]\n",
       "ARRIVAL          datetime64[ns]\n",
       "ADULTS                    int64\n",
       "CHILDREN                  int64\n",
       "INFANTS                   int64\n",
       "TRAIN                     int64\n",
       "HAUL_TYPE                 int64\n",
       "DISTANCE                float64\n",
       "DEVICE                    int64\n",
       "TRIP_TYPE                 int64\n",
       "PRODUCT                   int64\n",
       "SMS                       int64\n",
       "EXTRA_BAGGAGE             int64\n",
       "NO_GDS                    int64\n",
       "dtype: object"
      ]
     },
     "execution_count": 24,
     "metadata": {},
     "output_type": "execute_result"
    },
    {
     "data": {
      "text/plain": [
       "TIMESTAMP    datetime64[ns]\n",
       "WEBSITE               int64\n",
       "GDS                   int64\n",
       "DEPARTURE    datetime64[ns]\n",
       "ARRIVAL      datetime64[ns]\n",
       "ADULTS                int64\n",
       "CHILDREN              int64\n",
       "INFANTS               int64\n",
       "TRAIN                 int64\n",
       "HAUL_TYPE             int64\n",
       "DISTANCE            float64\n",
       "DEVICE                int64\n",
       "TRIP_TYPE             int64\n",
       "PRODUCT               int64\n",
       "SMS                   int64\n",
       "NO_GDS                int64\n",
       "dtype: object"
      ]
     },
     "execution_count": 24,
     "metadata": {},
     "output_type": "execute_result"
    }
   ],
   "source": [
    "# We check that it has been done properly\n",
    "df_train.dtypes\n",
    "df_test.dtypes"
   ]
  },
  {
   "cell_type": "markdown",
   "metadata": {
    "scrolled": true
   },
   "source": [
    "g = sns.pairplot(df_train, vars=['TIMESTAMP', 'WEBSITE', 'GDS', 'DEPARTURE', 'ARRIVAL', 'ADULTS',\n",
    "       'CHILDREN', 'INFANTS', 'TRAIN', 'HAUL_TYPE', 'DISTANCE', 'DEVICE',\n",
    "       'TRIP_TYPE', 'PRODUCT', 'SMS', 'NO_GDS'], hue='EXTRA_BAGGAGE')\n",
    "plt.show(g)"
   ]
  },
  {
   "cell_type": "markdown",
   "metadata": {},
   "source": [
    "<a id=\"3.1\"></a>\n",
    "#### Outliers Check"
   ]
  },
  {
   "cell_type": "code",
   "execution_count": null,
   "metadata": {},
   "outputs": [],
   "source": [
    "df_train.describe()"
   ]
  },
  {
   "cell_type": "code",
   "execution_count": null,
   "metadata": {
    "scrolled": false
   },
   "outputs": [],
   "source": [
    "df_train.columns"
   ]
  },
  {
   "cell_type": "markdown",
   "metadata": {},
   "source": [
    "There are some columns where there is no need to check for outliers, such as all the dates columns, or the ones who consists on boolean values. <br>\n",
    "Also some columns like `DISTANCE` will be studied separately as the distribution of that data will make the plot harder to interpret (as data is not normalized/standarized and values dismatch from the rest of the columns)."
   ]
  },
  {
   "cell_type": "markdown",
   "metadata": {},
   "source": [
    "# We remove the not needed columns\n",
    "df_ = df_train.drop(['TIMESTAMP', 'WEBSITE', 'GDS', 'DEPARTURE', 'ARRIVAL', 'ADULTS',\n",
    "                     'CHILDREN', 'INFANTS', 'TRAIN', 'HAUL_TYPE', 'DISTANCE', 'DEVICE',\n",
    "                     'TRIP_TYPE', 'PRODUCT', 'SMS', 'EXTRA_BAGGAGE', 'NO_GDS'])"
   ]
  },
  {
   "cell_type": "markdown",
   "metadata": {
    "scrolled": false
   },
   "source": [
    "sns.catplot(data=df_outliers,kind='box',height=10,aspect=2, palette=\"GnBu_d\");"
   ]
  },
  {
   "cell_type": "markdown",
   "metadata": {},
   "source": [
    "Let's take a look at the `DISTANCE` column:"
   ]
  },
  {
   "cell_type": "code",
   "execution_count": null,
   "metadata": {
    "scrolled": true
   },
   "outputs": [],
   "source": [
    "# Let's get some information about how the data is distributed (mean, min, max, etc.)\n",
    "df_train['DISTANCE'].describe()"
   ]
  },
  {
   "cell_type": "code",
   "execution_count": null,
   "metadata": {
    "scrolled": true
   },
   "outputs": [],
   "source": [
    "sns.distplot(df_train['DISTANCE']);"
   ]
  },
  {
   "cell_type": "markdown",
   "metadata": {},
   "source": [
    "As we can see the number of long distance trips is minimal, compared to the \"short\" ones. Here we have to take into account that the mean distance of the trips is 2199.90. <br>\n",
    "Can we consider some of those long distance trips as outliers and drop them...? <br>\n",
    "Let's first find out if the distance has any consecuences with getting extra baggage or not:"
   ]
  },
  {
   "cell_type": "code",
   "execution_count": null,
   "metadata": {
    "scrolled": false
   },
   "outputs": [],
   "source": [
    "# Histogram to check the distribution\n",
    "df_train['DISTANCE'].iplot(kind='hist', bins=100, xTitle='Distance', linecolor='black', \n",
    "                           yTitle='count', title='Histogram of Distance', layout=layout1)"
   ]
  },
  {
   "cell_type": "markdown",
   "metadata": {},
   "source": [
    "plot_complt_total = sns.barplot(x='EXTRA_BAGGAGE', y='DISTANCE', data = pd.melt(df_train)  ,palette=\"GnBu_d\");\n",
    "plot_complt_total.set(xlabel = '', ylabel= 'Distance VS Extra Baggage');\n"
   ]
  },
  {
   "cell_type": "markdown",
   "metadata": {},
   "source": [
    "df_train['DISTANCE'].plot(kind='scatter',x='distance',y='value')\n",
    "plt.show()"
   ]
  },
  {
   "cell_type": "markdown",
   "metadata": {},
   "source": [
    "<a id=\"3.1\"></a>\n",
    "#### Correlation Check"
   ]
  },
  {
   "cell_type": "code",
   "execution_count": null,
   "metadata": {},
   "outputs": [],
   "source": [
    "# Correlation Matrix\n",
    "cor_mat= df_train.corr()\n",
    "\n",
    "mask = np.array(cor_mat)\n",
    "mask[np.tril_indices_from(mask)] = False\n",
    "\n",
    "fig=plt.gcf()\n",
    "fig.set_size_inches(30,12)\n",
    "\n",
    "sns.heatmap(data=cor_mat,mask=mask,square=True,annot=True,cbar=True)"
   ]
  },
  {
   "cell_type": "markdown",
   "metadata": {},
   "source": [
    "We do not have correlated features, so we do not need to drop any features."
   ]
  },
  {
   "cell_type": "markdown",
   "metadata": {},
   "source": [
    "Let's check if we are facing a balanced dataset:"
   ]
  },
  {
   "cell_type": "code",
   "execution_count": null,
   "metadata": {},
   "outputs": [],
   "source": [
    "print(df_train['EXTRA_BAGGAGE'].value_counts())\n",
    "df_train['EXTRA_BAGGAGE'].value_counts().plot(kind='bar');"
   ]
  },
  {
   "cell_type": "markdown",
   "metadata": {},
   "source": [
    "As we can see we are facing a desbalanced dataset. <br>\n",
    "We will handle this situation further on the following section."
   ]
  },
  {
   "cell_type": "code",
   "execution_count": null,
   "metadata": {},
   "outputs": [],
   "source": [
    "df_train.columns"
   ]
  },
  {
   "cell_type": "code",
   "execution_count": null,
   "metadata": {},
   "outputs": [],
   "source": [
    "x_train = df_train.drop('EXTRA_BAGGAGE', axis=1)\n",
    "y_train = df_train.drop(['TIMESTAMP', 'WEBSITE', 'GDS', 'DEPARTURE', 'ARRIVAL', 'ADULTS',\n",
    "                    'CHILDREN', 'INFANTS', 'TRAIN', 'HAUL_TYPE', 'DISTANCE', 'DEVICE',\n",
    "                    'TRIP_TYPE', 'PRODUCT', 'SMS', 'NO_GDS'], axis=1)"
   ]
  },
  {
   "cell_type": "markdown",
   "metadata": {},
   "source": [
    "<a id=\"5\"></a>\n",
    "### 5. Oversampling\n",
    "\n",
    "As we have a desbalanced dataset, we will use oversampling in order to balance the classes. <br>\n",
    "\n",
    "*The technique that we are going tu use it's called SMOTENC (Synthetic Minority Over-sampling Technique for Nominal and Continuous) (https://imbalanced-learn.readthedocs.io/en/stable/generated/imblearn.over_sampling.SMOTENC.html).*\n",
    "\n",
    "What this technique does is create instances and registers of the class with fewer instance in an \"intelligent\" way. But taking into account categorical features, unlike SMOTE that will create values such as 0.65 for example when varibles take values of 0 or 1. "
   ]
  },
  {
   "cell_type": "markdown",
   "metadata": {},
   "source": [
    "###### *Why is it important to balance the classes?*\n",
    "\n",
    "As we are facing a clasification problem. If we do not balance the dataset and the classes to predict, our model will likely classify always towards the class with more existing registers, as it will be less likely to be mistaken. <br>\n",
    "\n",
    "*If we have 100 situations from class A and 1 situation from class B, and new situations come up for our model to predict from which class is that situation, our model will likely predict is from class A, as from what the model has seen it is less probable to make a mistake.*"
   ]
  },
  {
   "cell_type": "code",
   "execution_count": null,
   "metadata": {},
   "outputs": [],
   "source": [
    "# We drop the dates as SMOTENC does not behave well with them\n",
    "x_train = x_train.drop(['DEPARTURE', 'ARRIVAL', 'TIMESTAMP'], axis=1)"
   ]
  },
  {
   "cell_type": "code",
   "execution_count": null,
   "metadata": {
    "scrolled": true
   },
   "outputs": [],
   "source": [
    "# We initialize SMOTENC\n",
    "sm = SMOTENC(categorical_features=[5,6,8,9,10,11]) # We indicate the position of the categorical features/columns\n",
    "\n",
    "# We apply oversampling in our train dataset\n",
    "x_train, y_train = sm.fit_resample(x_train, y_train)"
   ]
  },
  {
   "cell_type": "code",
   "execution_count": null,
   "metadata": {
    "scrolled": true
   },
   "outputs": [],
   "source": [
    "# Let's check the amount of records in each class\n",
    "y_train['EXTRA_BAGGAGE'].value_counts()"
   ]
  },
  {
   "cell_type": "markdown",
   "metadata": {},
   "source": [
    "Now we can see our dataset is balanced, so we can proceed with the modeling."
   ]
  },
  {
   "cell_type": "markdown",
   "metadata": {},
   "source": [
    "<a id=\"4\"></a>\n",
    "### 4. Modeling"
   ]
  },
  {
   "cell_type": "code",
   "execution_count": null,
   "metadata": {},
   "outputs": [],
   "source": [
    "# We define de label\n",
    "y_label = y_train"
   ]
  },
  {
   "cell_type": "markdown",
   "metadata": {},
   "source": [
    "The last thing to do before modeling needs to be dropping the columns that take datetime as a type input as XGBoost its not good with non numerican features. "
   ]
  },
  {
   "cell_type": "code",
   "execution_count": null,
   "metadata": {},
   "outputs": [],
   "source": [
    "x_test = df_test.drop(['TIMESTAMP', 'DEPARTURE', 'ARRIVAL'], axis=1)"
   ]
  },
  {
   "cell_type": "markdown",
   "metadata": {},
   "source": [
    "Let's check both the train & test shapes are ok:"
   ]
  },
  {
   "cell_type": "code",
   "execution_count": null,
   "metadata": {},
   "outputs": [],
   "source": [
    "x_train.shape\n",
    "x_test.shape"
   ]
  },
  {
   "cell_type": "code",
   "execution_count": null,
   "metadata": {},
   "outputs": [],
   "source": [
    "x_train, x_val, y_train, y_val = train_test_split(x_train, y_label, test_size = 0.25, random_state = 0)"
   ]
  },
  {
   "cell_type": "markdown",
   "metadata": {},
   "source": [
    "<a id=\"5.1\"></a>\n",
    "##### 5.1 Setting K folds"
   ]
  },
  {
   "cell_type": "code",
   "execution_count": null,
   "metadata": {},
   "outputs": [],
   "source": [
    "# Setting a 5-fold stratified cross-validation (note: shuffle=True)\n",
    "skf = StratifiedKFold(n_splits=5, shuffle=True, random_state=1001)"
   ]
  },
  {
   "cell_type": "markdown",
   "metadata": {},
   "source": [
    "<a id=\"5.2\"></a>\n",
    "##### 5.2 Parameter tunning"
   ]
  },
  {
   "cell_type": "code",
   "execution_count": null,
   "metadata": {},
   "outputs": [],
   "source": [
    "# Parameters for the model\n",
    "params_model1 = {\n",
    "    'booster': ['dart', 'gbtree', 'gblinear'],\n",
    "    'learning_rate': [0.001, 0.01, 0.05, 0.1],\n",
    "    'min_child_weight': [1, 5, 10, 15, 20],\n",
    "    'gamma': [0, 0.5, 1, 1.5, 2, 5],\n",
    "    'subsample': [0.6, 0.8, 1.0],\n",
    "    'colsample_bytree': [0.6, 0.8, 1.0],\n",
    "    'max_depth': [3, 4, 5, 6, 7, 8],\n",
    "    'max_delta_step': [0, 1, 2, 3, 5, 10],\n",
    "    'base_score': [0.3, 0.35, 0.4, 0.45, 0.5, 0.55, 0.6, 0.65],\n",
    "    'reg_alpha': [0, 0.5, 1, 1.5, 2],\n",
    "    'reg_lambda': [0, 0.5, 1, 1.5, 2],\n",
    "    'n_estimators': [100, 200, 500]\n",
    "}"
   ]
  },
  {
   "cell_type": "code",
   "execution_count": null,
   "metadata": {},
   "outputs": [],
   "source": [
    "xgb = XGBClassifier(base_score=0.5, booster='gbtree', colsample_bylevel=1,\n",
    "                    colsample_bynode=1, colsample_bytree=0.3, gamma=1,\n",
    "                    learning_rate=0.1, max_delta_step=0, max_depth=10,\n",
    "                    min_child_weight=5, missing=None, n_estimators=1000, n_jobs=1,\n",
    "                    nthread=None, objective='binary:logistic', random_state=0,\n",
    "                    reg_alpha=0, reg_lambda=1, scale_pos_weight=1, seed=None,\n",
    "                    silent=None, subsample=0.8, verbosity=1)\n",
    "\n",
    "scoring = 'f1'\n",
    "\n",
    "rs_xgb = RandomizedSearchCV(xgb, param_distributions=params_model1, n_iter=1,\n",
    "                            scoring=scoring,  n_jobs=4, cv=skf.split(x_train, y_train), verbose=3,\n",
    "                            random_state=1001)\n",
    "\n",
    "# We train the model\n",
    "rs_xgb.fit(x_train, y_train)\n",
    "\n",
    "# We train the model with the best estimator\n",
    "refit = rs_xgb.best_estimator_"
   ]
  },
  {
   "cell_type": "markdown",
   "metadata": {},
   "source": [
    "##### Predicting"
   ]
  },
  {
   "cell_type": "code",
   "execution_count": null,
   "metadata": {},
   "outputs": [],
   "source": [
    "# Predictions on the train set\n",
    "y_train_predict = refit.predict(x_train)"
   ]
  },
  {
   "cell_type": "code",
   "execution_count": null,
   "metadata": {},
   "outputs": [],
   "source": [
    "# We create the confusion matrix\n",
    "train_cm = confusion_matrix(y_train, y_train_predict)\n",
    "\n",
    "print(colored('The Confusion Matrix in the train set is: ', 'red'),'\\n', train_cm)\n",
    "print(colored('The score on the train set is: ', 'blue'), colored(str(f1_score(y_train, y_train_predict)), 'blue'))"
   ]
  },
  {
   "cell_type": "markdown",
   "metadata": {},
   "source": [
    "It doesn't look as our model was doing overfitting, let's check the confusion matrix for the validation set:"
   ]
  },
  {
   "cell_type": "code",
   "execution_count": null,
   "metadata": {},
   "outputs": [],
   "source": [
    "# We make the predictions\n",
    "y_predict = refit.predict(x_val)"
   ]
  },
  {
   "cell_type": "code",
   "execution_count": null,
   "metadata": {},
   "outputs": [],
   "source": [
    "# We create the confusion matrix\n",
    "cm = confusion_matrix(y_val, y_predict)\n",
    "\n",
    "print(colored('The Confusion Matrix in the validation set is: ', 'red'),'\\n', cm)\n",
    "print(colored('The score on the test set is: ', 'blue'), colored(str(f1_score(y_val, y_predict)), 'blue'))"
   ]
  },
  {
   "cell_type": "markdown",
   "metadata": {},
   "source": [
    "As we are facing a classification"
   ]
  },
  {
   "cell_type": "markdown",
   "metadata": {},
   "source": [
    "## Greetings"
   ]
  },
  {
   "cell_type": "markdown",
   "metadata": {},
   "source": [
    "I wanted to finish this test by giving thanks for the opportunity to work in such an amazing company that I have been looking up for many years now.<br>\n",
    "It would be like a dream to be part of such an amazing project as I have been and it would be great to . <br>\n",
    "I hope I left a good impresion and you take me into account for this position. \n",
    "\n",
    "I look forward to hearing from you.\n",
    "\n",
    "Kind regards,\n",
    "\n",
    "Tomas Ruan\n",
    "\n",
    "*__Author:__ Tomas Ruan Rollan*\n",
    "<br>\n",
    "*__LinkedIn:__ https://www.linkedin.com/in/tomas-ruan/*\n",
    "<br>\n",
    "*__Email:__ tomruarol@gmail.com*"
   ]
  }
 ],
 "metadata": {
  "kernelspec": {
   "display_name": "Python 3",
   "language": "python",
   "name": "python3"
  },
  "language_info": {
   "codemirror_mode": {
    "name": "ipython",
    "version": 3
   },
   "file_extension": ".py",
   "mimetype": "text/x-python",
   "name": "python",
   "nbconvert_exporter": "python",
   "pygments_lexer": "ipython3",
   "version": "3.7.3"
  }
 },
 "nbformat": 4,
 "nbformat_minor": 2
}
